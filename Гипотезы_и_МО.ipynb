{
 "cells": [
  {
   "cell_type": "code",
   "execution_count": 4,
   "id": "08f8ac9c",
   "metadata": {},
   "outputs": [],
   "source": [
    "import requests\n",
    "from bs4 import BeautifulSoup as bs\n",
    "import pandas as pd\n",
    "import numpy as np\n",
    "import matplotlib.pyplot as plt\n",
    "import seaborn as sns\n",
    "import missingno as msno\n",
    "import scipy.stats as sts\n",
    "\n",
    "import warnings\n",
    "warnings.filterwarnings(\"ignore\")"
   ]
  },
  {
   "cell_type": "markdown",
   "id": "ad8cf592",
   "metadata": {},
   "source": [
    "# IV) Создаем новый признак"
   ]
  },
  {
   "cell_type": "markdown",
   "id": "d6c8019c",
   "metadata": {},
   "source": [
    "Для того чтобы определить страну производитель, было решено сначала разделить название на производителя и модель в исходном датасете, затем глянуть на производителей и создать словарь с производителями и странами"
   ]
  },
  {
   "cell_type": "code",
   "execution_count": 2,
   "id": "f54efc39",
   "metadata": {},
   "outputs": [],
   "source": [
    "df = pd.read_csv('data_processed.csv')\n",
    "df.drop(['Unnamed: 0'], axis=1, inplace=True)"
   ]
  },
  {
   "cell_type": "code",
   "execution_count": 3,
   "id": "35a1e16d",
   "metadata": {},
   "outputs": [],
   "source": [
    "df.insert(1, 'Марка', df['Название'].str.split(' ', 1, expand=True)[1])\n",
    "df['Название'] = df['Название'].str.split(' ', 1, expand=True)[0]\n",
    "df.rename(columns = {'Название': 'Производитель'}, inplace = True)"
   ]
  },
  {
   "cell_type": "markdown",
   "id": "eaacba31",
   "metadata": {},
   "source": [
    "Путем поиска в интернетах создаем словарик..."
   ]
  },
  {
   "cell_type": "code",
   "execution_count": 4,
   "id": "7f15b8c0",
   "metadata": {},
   "outputs": [],
   "source": [
    "slovar = {'Kia': 'Южная Корея', 'Hyundai': 'Южная Корея', 'Toyota': 'Япония', 'Jeep': 'США',\n",
    "          'Mercedes-Benz': 'Германия', 'Лада': 'Россия', 'BMW': 'Германия','ГАЗ': 'Россия',\n",
    "          'Changan': 'Китай', 'Infiniti': 'Япония', 'Audi': 'Германия', 'Volkswagen': 'Германия',\n",
    "          'Great Wall': 'Китай', 'Honda': 'Япония', 'Nissan': 'Япония', 'SsangYong': 'Южная Корея', \n",
    "          'Skoda': 'Чехия', 'Volvo': 'Швеция', 'Land Rover': 'Британия', 'Chevrolet': 'США',\n",
    "          'Mazda': 'Япония', 'Opel': 'Германия', 'Peugeot': 'Франция', 'Rivian': 'США',\n",
    "          'Renault': 'Франция', 'Mitsubishi': 'Япония', 'Tesla': 'США', 'Lexus': 'Япония',\n",
    "          'Ford': 'США', 'Bentley': 'Британия', 'Subaru': 'Япония', 'Porsche': 'Германия',\n",
    "          'Dodge': 'США', 'Fiat': 'Италия', 'Suzuki': 'Япония', 'Haval': 'Китай', 'УАЗ': 'Россия',\n",
    "          'Geely': 'Китай', 'Chery': 'Китай', 'EXEED': 'Китай', 'Genesis': 'Южная Корея',\n",
    "          'Dongfeng': 'Китай', 'Citroen': 'Германия', 'BYD': 'Китай', 'Jaguar': 'Британия',\n",
    "          'Tank': 'Китай', 'ЗАЗ': 'Россия', 'Daewoo': 'Южная Корея', 'Kaiyi': 'Китай',\n",
    "          'MINI': 'Британия', 'Datsun': 'Япония', 'Москвич': 'Россия', 'SEAT': 'Испания',\n",
    "          'Cadillac': 'США', 'Daihatsu': 'Япония', 'Voyah': 'Китай', 'GMC': 'США', 'Chrysler': 'США',\n",
    "          'Lifan': 'Китай', 'Isuzu': 'Япония', 'Ferrari': 'Италия', 'Smart': 'Германия',\n",
    "          'Evolute': 'Россия', 'RAM': 'США', 'Maybach': 'Германия'}"
   ]
  },
  {
   "cell_type": "markdown",
   "id": "1b9a961e",
   "metadata": {},
   "source": [
    "Во время сбора словарика были найдены производители с названием из двух и более слов: Land Rover, Great Wall. Заменим их модели и название производителей.\n",
    "\n",
    "Более того, была найдена машина Jetta совместного производства Китая и Volkswagen. Так как это пилотный проект, то было решено вообще выкинуть этот мусор"
   ]
  },
  {
   "cell_type": "code",
   "execution_count": 5,
   "id": "2cdf0fe8",
   "metadata": {},
   "outputs": [],
   "source": [
    "df.set_index('Производитель', inplace=True)\n",
    "df.drop('Jetta', inplace=True)\n",
    "df.rename(index = {'Great': 'Great Wall', 'Land': 'Land Rover'}, inplace=True)\n",
    "df.reset_index(inplace = True)\n",
    "\n",
    "for i in df[df['Производитель'] == 'Land Rover']['Марка'].values:\n",
    "    df.replace(i, i.replace('Rover ', '', 1), inplace=True)\n",
    "    \n",
    "for i in df[df['Производитель'] == 'Great Wall']['Марка'].values:\n",
    "    df.replace(i, i.replace('Wall ', '', 1), inplace=True)\n",
    "\n",
    "countries = []\n",
    "for i in list(df['Производитель'].values):\n",
    "    countries.append(slovar[i])\n",
    "df.insert(2, 'Страна', countries)\n"
   ]
  },
  {
   "cell_type": "code",
   "execution_count": 6,
   "id": "80ada15a",
   "metadata": {},
   "outputs": [],
   "source": [
    "df.to_csv('new_data_processed.csv')"
   ]
  },
  {
   "cell_type": "markdown",
   "id": "b5cc084a",
   "metadata": {},
   "source": [
    "# V) Проверка гипотез"
   ]
  },
  {
   "cell_type": "markdown",
   "id": "ece04e5a",
   "metadata": {},
   "source": [
    "## Среднее значение цен на западные автомобили равно среднему значению цен на восточные"
   ]
  },
  {
   "cell_type": "markdown",
   "id": "2f912325",
   "metadata": {},
   "source": [
    "Приступим к проверке гипотезы. То есть:\n",
    "\n",
    "$$\n",
    "\\begin{aligned}\n",
    "&H_0:  \\mu(восток)\\ = \\mu(запад)\\\\\n",
    "&H_1:  \\mu(восток)\\ \\not=\\ \\mu(запад)\\\\\n",
    "\\end{aligned}\n",
    "$$\n",
    "\n",
    "Рассмотрим, что относится к западу и востоку"
   ]
  },
  {
   "cell_type": "code",
   "execution_count": 7,
   "id": "1ad5ab87",
   "metadata": {},
   "outputs": [
    {
     "data": {
      "text/plain": [
       "array(['Южная Корея', 'Япония', 'США', 'Германия', 'Россия', 'Китай',\n",
       "       'Чехия', 'Швеция', 'Британия', 'Франция', 'Италия', 'Испания'],\n",
       "      dtype=object)"
      ]
     },
     "execution_count": 7,
     "metadata": {},
     "output_type": "execute_result"
    }
   ],
   "source": [
    "df['Страна'].unique()"
   ]
  },
  {
   "cell_type": "code",
   "execution_count": 8,
   "id": "ce653808",
   "metadata": {},
   "outputs": [],
   "source": [
    "west = np.array(['США', 'Германия', 'Чехия', 'Швеция', 'Британия', 'Франция', 'Италия', 'Испания'])\n",
    "east = ['Южная Корея', 'Япония', 'Россия', 'Китай']"
   ]
  },
  {
   "cell_type": "markdown",
   "id": "ff144b3b",
   "metadata": {},
   "source": [
    "Проверим распределение цен автомобилей"
   ]
  },
  {
   "cell_type": "code",
   "execution_count": 9,
   "id": "2c898830",
   "metadata": {},
   "outputs": [
    {
     "data": {
      "image/png": "[encoded data removed]",
      "text/plain": [
       "<Figure size 640x480 with 1 Axes>"
      ]
     },
     "metadata": {},
     "output_type": "display_data"
    }
   ],
   "source": [
    "plt.hist(df['Цена'], bins=100)\n",
    "plt.title('Гистограмма цен')\n",
    "plt.xlabel('Ценовая категория')\n",
    "plt.ylabel('Количество автомобилей в ценовой категории');"
   ]
  },
  {
   "cell_type": "markdown",
   "id": "11f05756",
   "metadata": {},
   "source": [
    "Гистограмма очень похожа на хи квадрат, который в ассимптотике сможет дать нормальное распределение, поэтому воспользуюсь этим свойством для проверки гипотезы.\n",
    "\n",
    "Я не знаю истинную дисперсию, поэтому воспользовался ее несмещенной оценкой..\n",
    "\n",
    "Рассматривался уровень доверия 95%"
   ]
  },
  {
   "cell_type": "code",
   "execution_count": 10,
   "id": "ccc3d4c8",
   "metadata": {},
   "outputs": [],
   "source": [
    "idx_w = []\n",
    "idx_e = []\n",
    "for i in df['Страна']:\n",
    "    if i in west:\n",
    "        idx_w.append(True)\n",
    "        idx_e.append(False)\n",
    "    else:\n",
    "        idx_w.append(False)\n",
    "        idx_e.append(True)\n",
    "\n",
    "df_w = df[idx_w]\n",
    "df_e = df[idx_e]\n",
    "\n",
    "sigma = np.sqrt((df_e['Цена'].var(ddof=1) * (df_e.size - 1) + df_w['Цена'].var(ddof=1) * (df_w.size - 1)) \n",
    " / (df_w.size + df_e.size - 2))\n",
    "\n",
    "t_rasch = (df_w['Цена'].mean() - df_e['Цена'].mean()) / (sigma * np.sqrt((1 / df_e.size) + (1 / df_w.size)))\n",
    "t_kr = sts.t(df = df_e.size + df_w.size - 2).ppf(0.05/2)\n"
   ]
  },
  {
   "cell_type": "code",
   "execution_count": 11,
   "id": "91717f97",
   "metadata": {},
   "outputs": [],
   "source": [
    "sigma = np.sqrt((df_e['Цена'].var(ddof=1) * (df_e.size - 1) + df_w['Цена'].var(ddof=1) * (df_w.size - 1)) \n",
    " / (df_w.size + df_e.size - 2))\n",
    "\n",
    "t_rasch = (df_w['Цена'].mean() - df_e['Цена'].mean()) / (sigma * np.sqrt((1 / df_e.size) + (1 / df_w.size)))\n",
    "t_kr = sts.t(df = df_e.size + df_w.size - 2).ppf(0.05/2)"
   ]
  },
  {
   "cell_type": "code",
   "execution_count": 12,
   "id": "c2f2fd05",
   "metadata": {},
   "outputs": [
    {
     "data": {
      "image/png": "[encoded data removed]",
      "text/plain": [
       "<Figure size 640x480 with 1 Axes>"
      ]
     },
     "metadata": {},
     "output_type": "display_data"
    }
   ],
   "source": [
    "x = np.linspace(-32, 32, 1000)\n",
    "pdf = sts.t(df=df_e.size + df_w.size - 2).pdf(x)\n",
    "plt.plot(x, pdf, color = 'black')\n",
    "\n",
    "plt.scatter(t_rasch, [sts.t(df=df_e.size + df_w.size - 2).pdf(t_rasch)], color=\"blue\")\n",
    "plt.axvline(t_rasch, color='blue', linestyle=\"--\", lw=1)\n",
    "\n",
    "plt.axvline(t_kr, color='red', linestyle=\"--\", lw=1)\n",
    "xq = np.linspace(-32, t_kr, 100)\n",
    "yq = sts.t(df=df_e.size + df_w.size - 2).pdf(xq)\n",
    "plt.fill_between(xq, 0, yq, color='red', alpha=0.2)\n",
    "\n",
    "plt.axvline(-1 * t_kr, color='red', linestyle=\"--\", lw=1)\n",
    "xq = np.linspace(-1 * t_kr, 32, 100)\n",
    "yq = sts.t(df=df_e.size + df_w.size - 2).pdf(xq)\n",
    "plt.fill_between(xq, 0, yq, color='red', alpha=0.2)\n",
    "\n",
    "plt.plot(x, pdf)\n",
    "plt.ylabel('f(x)')\n",
    "plt.xlabel('x')\n",
    "plt.title('График плотности распредления Стьюдента с нужными точками');"
   ]
  },
  {
   "cell_type": "code",
   "execution_count": 13,
   "id": "d5c9f6c2",
   "metadata": {},
   "outputs": [
    {
     "name": "stdout",
     "output_type": "stream",
     "text": [
      "Расчетная точка: 30.34321831511047\n",
      "Критические точки: 1.960087961271559, -1.960087961271559\n"
     ]
    }
   ],
   "source": [
    "print('Расчетная точка:',  t_rasch)\n",
    "print('Критические точки: ',  -1 * t_kr, ', ', t_kr, sep='')"
   ]
  },
  {
   "cell_type": "markdown",
   "id": "24c5dbc2",
   "metadata": {},
   "source": [
    "Собственного говоря, гипотеза отвергается. Это видно и по графику выше"
   ]
  },
  {
   "cell_type": "markdown",
   "id": "a02413ce",
   "metadata": {},
   "source": [
    "> Гипотез много. Например, выше, во время обработки данных и EDA я заметил раритетную машину 1950 года. Интересно, она одна такая? Или их значимое количество, если поискать? "
   ]
  },
  {
   "cell_type": "markdown",
   "id": "3e2670c6",
   "metadata": {},
   "source": [
    "## Может ли цена зависеть от года выпуска прямо - чем меньше год выпуска, т.е. старее машина - тем выше цена?"
   ]
  },
  {
   "cell_type": "code",
   "execution_count": 14,
   "id": "4a338760",
   "metadata": {},
   "outputs": [
    {
     "data": {
      "image/png": "[encoded data removed]",
      "text/plain": [
       "<Figure size 640x480 with 1 Axes>"
      ]
     },
     "metadata": {},
     "output_type": "display_data"
    }
   ],
   "source": [
    "df['Год'] = pd.to_numeric(df['Год'])\n",
    "\n",
    "# Создание нового столбца 'Возраст'\n",
    "current_year = 2023  # Текущий год\n",
    "df['Возраст'] = current_year - df['Год']\n",
    "\n",
    "# Группировка данных по возрасту автомобилей и вычисление средней цены для каждой группы\n",
    "age_price = df.groupby('Возраст')['Цена'].mean()\n",
    "\n",
    "# Построение графика для визуализации результатов\n",
    "plt.plot(age_price.index, age_price.values)\n",
    "plt.xlabel('Возраст автомобиля')\n",
    "plt.ylabel('Средняя цена перепродажи')\n",
    "plt.title('Средняя цена перепродажи в зависимости от возраста автомобиля')\n",
    "plt.show()"
   ]
  },
  {
   "cell_type": "code",
   "execution_count": 15,
   "id": "a16af520",
   "metadata": {},
   "outputs": [
    {
     "data": {
      "text/html": [
       "<div>\n",
       "<style scoped>\n",
       "    .dataframe tbody tr th:only-of-type {\n",
       "        vertical-align: middle;\n",
       "    }\n",
       "\n",
       "    .dataframe tbody tr th {\n",
       "        vertical-align: top;\n",
       "    }\n",
       "\n",
       "    .dataframe thead th {\n",
       "        text-align: right;\n",
       "    }\n",
       "</style>\n",
       "<table border=\"1\" class=\"dataframe\">\n",
       "  <thead>\n",
       "    <tr style=\"text-align: right;\">\n",
       "      <th></th>\n",
       "      <th>Производитель</th>\n",
       "      <th>Марка</th>\n",
       "      <th>Страна</th>\n",
       "      <th>Год</th>\n",
       "      <th>Топливо</th>\n",
       "      <th>Объем двигателя</th>\n",
       "      <th>Мощность</th>\n",
       "      <th>Коробка передач</th>\n",
       "      <th>Привод</th>\n",
       "      <th>Цвет</th>\n",
       "      <th>Пробег</th>\n",
       "      <th>Руль</th>\n",
       "      <th>Оценка Drom</th>\n",
       "      <th>Цена</th>\n",
       "      <th>Возраст</th>\n",
       "    </tr>\n",
       "  </thead>\n",
       "  <tbody>\n",
       "    <tr>\n",
       "      <th>12</th>\n",
       "      <td>ГАЗ</td>\n",
       "      <td>14 Чайка</td>\n",
       "      <td>Россия</td>\n",
       "      <td>1985</td>\n",
       "      <td>бензин</td>\n",
       "      <td>5.5</td>\n",
       "      <td>220.0</td>\n",
       "      <td>автомат</td>\n",
       "      <td>задний</td>\n",
       "      <td>черный</td>\n",
       "      <td>39316.0</td>\n",
       "      <td>левый</td>\n",
       "      <td>8.602</td>\n",
       "      <td>3000000</td>\n",
       "      <td>38</td>\n",
       "    </tr>\n",
       "    <tr>\n",
       "      <th>161</th>\n",
       "      <td>Лада</td>\n",
       "      <td>2101</td>\n",
       "      <td>Россия</td>\n",
       "      <td>1986</td>\n",
       "      <td>бензин</td>\n",
       "      <td>1.3</td>\n",
       "      <td>64.0</td>\n",
       "      <td>механика</td>\n",
       "      <td>задний</td>\n",
       "      <td>бежевый</td>\n",
       "      <td>100000.0</td>\n",
       "      <td>левый</td>\n",
       "      <td>7.500</td>\n",
       "      <td>60000</td>\n",
       "      <td>37</td>\n",
       "    </tr>\n",
       "    <tr>\n",
       "      <th>543</th>\n",
       "      <td>Лада</td>\n",
       "      <td>4x4 2121 Нива</td>\n",
       "      <td>Россия</td>\n",
       "      <td>1987</td>\n",
       "      <td>бензин</td>\n",
       "      <td>1.6</td>\n",
       "      <td>73.0</td>\n",
       "      <td>механика</td>\n",
       "      <td>4WD</td>\n",
       "      <td>бежевый</td>\n",
       "      <td>69000.0</td>\n",
       "      <td>левый</td>\n",
       "      <td>8.602</td>\n",
       "      <td>152000</td>\n",
       "      <td>36</td>\n",
       "    </tr>\n",
       "    <tr>\n",
       "      <th>548</th>\n",
       "      <td>Лада</td>\n",
       "      <td>2102</td>\n",
       "      <td>Россия</td>\n",
       "      <td>1985</td>\n",
       "      <td>бензин</td>\n",
       "      <td>1.6</td>\n",
       "      <td>64.0</td>\n",
       "      <td>механика</td>\n",
       "      <td>задний</td>\n",
       "      <td>бежевый</td>\n",
       "      <td>99999.0</td>\n",
       "      <td>левый</td>\n",
       "      <td>8.602</td>\n",
       "      <td>75000</td>\n",
       "      <td>38</td>\n",
       "    </tr>\n",
       "    <tr>\n",
       "      <th>885</th>\n",
       "      <td>BMW</td>\n",
       "      <td>340</td>\n",
       "      <td>Германия</td>\n",
       "      <td>1950</td>\n",
       "      <td>бензин</td>\n",
       "      <td>2.0</td>\n",
       "      <td>55.0</td>\n",
       "      <td>механика</td>\n",
       "      <td>задний</td>\n",
       "      <td>черный</td>\n",
       "      <td>50000.0</td>\n",
       "      <td>левый</td>\n",
       "      <td>8.602</td>\n",
       "      <td>5600000</td>\n",
       "      <td>73</td>\n",
       "    </tr>\n",
       "  </tbody>\n",
       "</table>\n",
       "</div>"
      ],
      "text/plain": [
       "    Производитель          Марка    Страна   Год Топливо  Объем двигателя  \\\n",
       "12            ГАЗ       14 Чайка    Россия  1985  бензин              5.5   \n",
       "161          Лада           2101    Россия  1986  бензин              1.3   \n",
       "543          Лада  4x4 2121 Нива    Россия  1987  бензин              1.6   \n",
       "548          Лада           2102    Россия  1985  бензин              1.6   \n",
       "885           BMW            340  Германия  1950  бензин              2.0   \n",
       "\n",
       "     Мощность Коробка передач  Привод     Цвет    Пробег   Руль  Оценка Drom  \\\n",
       "12      220.0         автомат  задний   черный   39316.0  левый        8.602   \n",
       "161      64.0        механика  задний  бежевый  100000.0  левый        7.500   \n",
       "543      73.0        механика     4WD  бежевый   69000.0  левый        8.602   \n",
       "548      64.0        механика  задний  бежевый   99999.0  левый        8.602   \n",
       "885      55.0        механика  задний   черный   50000.0  левый        8.602   \n",
       "\n",
       "        Цена  Возраст  \n",
       "12   3000000       38  \n",
       "161    60000       37  \n",
       "543   152000       36  \n",
       "548    75000       38  \n",
       "885  5600000       73  "
      ]
     },
     "execution_count": 15,
     "metadata": {},
     "output_type": "execute_result"
    }
   ],
   "source": [
    "df.loc[df.Возраст > 35].head()"
   ]
  },
  {
   "cell_type": "markdown",
   "id": "8a1c77a4",
   "metadata": {},
   "source": [
    "> Что ж, немолодых автомобилей оказалось не так много, как хотелось бы, но учитывая, что на 3 машины из 5 имеющихся возрастом сташе 35 лет стоимость больше миллиона и на графике четко видно, что она растет с возрастом - данная зависимость имеет место быть.\n",
    "\n",
    "Хорошо, но можно ли говорить, что цена автомобиля обусловлена его возрастом, пробегом и прочими факторами, но при этом в целом не так то и важно, какая марка машины это изначально была?"
   ]
  },
  {
   "cell_type": "code",
   "execution_count": 16,
   "id": "9af64904",
   "metadata": {},
   "outputs": [
    {
     "name": "stdout",
     "output_type": "stream",
     "text": [
      "F-значение: 12.02950298125449\n",
      "p-value: 9.934432508238841e-92\n"
     ]
    }
   ],
   "source": [
    "brand_price = df.groupby('Производитель')['Цена'].mean()\n",
    "\n",
    "# Выполнение однофакторного ANOVA\n",
    "fvalue, pvalue = sts.f_oneway(*[group['Цена'] for brand, group in df.groupby('Производитель')])\n",
    "\n",
    "# Вывод результатов\n",
    "print(\"F-значение:\", fvalue)\n",
    "print(\"p-value:\", pvalue)"
   ]
  },
  {
   "cell_type": "markdown",
   "id": "ca55ff68",
   "metadata": {},
   "source": [
    "Кажется, нет. Из-за большого F-значения можно утверждать, что марка авто значительно влияет на его цену, а столь маленький p-value (e-92!!!!) говорит о том, что ошибка тут явно исключена"
   ]
  },
  {
   "cell_type": "markdown",
   "id": "e67a1512",
   "metadata": {},
   "source": [
    "# VI) Построение моделей"
   ]
  },
  {
   "cell_type": "markdown",
   "id": "ae586015",
   "metadata": {},
   "source": [
    "Модели будут предсказывать цену автомобиля"
   ]
  },
  {
   "cell_type": "markdown",
   "id": "94a097fa",
   "metadata": {},
   "source": [
    "## Линейная регрессия"
   ]
  },
  {
   "cell_type": "code",
   "execution_count": 98,
   "id": "2ac38a61",
   "metadata": {},
   "outputs": [],
   "source": [
    "from sklearn.model_selection import train_test_split\n",
    "from sklearn.model_selection import cross_val_score\n",
    "from catboost import Pool, cv\n",
    "\n",
    "from sklearn.neighbors import KNeighborsClassifier\n",
    "from sklearn.linear_model import LinearRegression\n",
    "from sklearn.linear_model import Lasso\n",
    "from sklearn.ensemble import RandomForestRegressor\n",
    "from catboost import CatBoostRegressor\n",
    "\n",
    "from sklearn.preprocessing import OneHotEncoder\n",
    "from sklearn.preprocessing import StandardScaler\n",
    "\n",
    "from sklearn.metrics import mean_squared_error\n",
    "\n",
    "from sklearn.compose import ColumnTransformer\n",
    "from sklearn.pipeline import Pipeline\n",
    "\n",
    "from sklearn.model_selection import GridSearchCV"
   ]
  },
  {
   "cell_type": "code",
   "execution_count": 44,
   "id": "63bd37b4",
   "metadata": {},
   "outputs": [],
   "source": [
    "def rmse_score(true, pred):\n",
    "    return np.sqrt(mean_squared_error(true, pred))"
   ]
  },
  {
   "cell_type": "code",
   "execution_count": 45,
   "id": "8e385e17",
   "metadata": {},
   "outputs": [],
   "source": [
    "df = pd.read_csv('new_data_processed.csv')\n",
    "df.drop('Unnamed: 0', axis=1, inplace=True)"
   ]
  },
  {
   "cell_type": "code",
   "execution_count": 46,
   "id": "026fd751",
   "metadata": {},
   "outputs": [],
   "source": [
    "#Только числовые немасштабированные данные \n",
    "\n",
    "df_1 = df[['Год', 'Объем двигателя', 'Мощность', 'Пробег', 'Оценка Drom', 'Цена']]\n",
    "df_train, df_test = train_test_split(df_1, test_size=0.2, random_state=101)\n",
    "\n",
    "y_train_num = df_train['Цена']\n",
    "y_test_num = df_test['Цена']\n",
    "\n",
    "X_train_num = df_train.drop('Цена', axis=1)\n",
    "X_test_num = df_test.drop('Цена', axis=1)\n",
    "\n",
    "X_num = df_1.drop('Цена', axis=1)\n",
    "y_num = df_1['Цена']"
   ]
  },
  {
   "cell_type": "code",
   "execution_count": 47,
   "id": "3c45afd7",
   "metadata": {},
   "outputs": [],
   "source": [
    "#Масштабированные числовые признаки\n",
    "\n",
    "scaler = StandardScaler()\n",
    "X_train_scale = scaler.fit_transform(X_train_num)\n",
    "X_test_scale = scaler.transform(X_test_num)"
   ]
  },
  {
   "cell_type": "code",
   "execution_count": 48,
   "id": "9dfe059c",
   "metadata": {},
   "outputs": [],
   "source": [
    "#Категориальные признаки\n",
    "\n",
    "numeric_features = df.select_dtypes([np.number]).columns\n",
    "categorical_features = df.dtypes[df.dtypes == \"object\"].index\n",
    "\n",
    "encoder = OneHotEncoder(drop=\"first\", sparse=False, handle_unknown='ignore')\n",
    "df_cat_ohe = pd.DataFrame(encoder.fit_transform(df[categorical_features]), \n",
    "                          columns = encoder.get_feature_names_out(categorical_features))\n",
    "\n",
    "df_all = pd.concat([df[numeric_features], df_cat_ohe], axis = 1)\n",
    "\n",
    "df_train, df_test = train_test_split(df_all, test_size=0.2, random_state=101)\n",
    "\n",
    "y_train_cat = df_train['Цена']\n",
    "y_test_cat = df_test['Цена']\n",
    "\n",
    "X_train_cat = df_train.drop('Цена', axis=1)\n",
    "X_test_cat = df_test.drop('Цена', axis=1)\n",
    "\n",
    "X_cat = df_all.drop('Цена', axis = 1)\n",
    "y_cat = df_all['Цена']"
   ]
  },
  {
   "cell_type": "markdown",
   "id": "11792e49",
   "metadata": {},
   "source": [
    "### Классическая линейная регрессия"
   ]
  },
  {
   "cell_type": "code",
   "execution_count": 49,
   "id": "3cc4e8ff",
   "metadata": {},
   "outputs": [
    {
     "name": "stdout",
     "output_type": "stream",
     "text": [
      "Test RMSE = 2449187.3553\n",
      "Train RMSE = 2385901.7710\n",
      "\n",
      "RMSE cross_val: 2412789.0238631465\n"
     ]
    }
   ],
   "source": [
    "model = LinearRegression()\n",
    "\n",
    "model.fit(X_train_num, y_train_num)\n",
    "y_pr = model.predict(X_test_num)\n",
    "y_train_pred = model.predict(X_train_num)\n",
    "\n",
    "print(\"Test RMSE = %.4f\" % rmse_score(y_test_num, y_pr))\n",
    "print(\"Train RMSE = %.4f\" % rmse_score(y_train_num, y_train_pred))\n",
    "\n",
    "cross_val = cross_val_score(model, X_num, y_num, scoring='neg_root_mean_squared_error')\n",
    "rmse = np.mean(-1 * cross_val)\n",
    "print(\"\\nRMSE cross_val:\", rmse)"
   ]
  },
  {
   "cell_type": "markdown",
   "id": "98748c9b",
   "metadata": {},
   "source": [
    "__Наивный прогноз__"
   ]
  },
  {
   "cell_type": "code",
   "execution_count": 50,
   "id": "df33be0e",
   "metadata": {},
   "outputs": [
    {
     "data": {
      "text/plain": [
       "2790260.307230077"
      ]
     },
     "execution_count": 50,
     "metadata": {},
     "output_type": "execute_result"
    }
   ],
   "source": [
    "y_naive_pred = np.mean(y_train_num) * np.ones_like(y_test_num)\n",
    "rmse_score(y_naive_pred, y_pr)"
   ]
  },
  {
   "cell_type": "markdown",
   "id": "99c98f93",
   "metadata": {},
   "source": [
    "Модель предсказывает лучше, чем наивный проноз, но метрики все равно плохи..."
   ]
  },
  {
   "cell_type": "markdown",
   "id": "089df0d3",
   "metadata": {},
   "source": [
    "### Отмасштабированная линейная регрессия"
   ]
  },
  {
   "cell_type": "code",
   "execution_count": 51,
   "id": "d306d6f5",
   "metadata": {},
   "outputs": [
    {
     "name": "stdout",
     "output_type": "stream",
     "text": [
      "Test RMSE = 2449187.3553\n",
      "Train RMSE = 2385901.7710\n",
      "\n",
      "RMSE cross_val: 2412789.023863147\n"
     ]
    }
   ],
   "source": [
    "model.fit(X_train_scale, y_train_num)\n",
    "y_pr_ss = model.predict(X_test_scale)\n",
    "y_train_pr_ss = model.predict(X_train_scale)\n",
    "\n",
    "print(\"Test RMSE = %.4f\" % rmse_score(y_test_num, y_pr_ss))\n",
    "print(\"Train RMSE = %.4f\" % rmse_score(y_train_num, y_train_pr_ss))\n",
    "\n",
    "\n",
    "simple_pipeline = Pipeline(steps=[\n",
    "    ('SS', StandardScaler()),\n",
    "    ('regression', LinearRegression())\n",
    "])\n",
    "\n",
    "scores = cross_val_score(simple_pipeline, X_num, y_num, scoring='neg_root_mean_squared_error', cv=5)\n",
    "rmse = np.mean(-1 * scores)\n",
    "\n",
    "print(\"\\nRMSE cross_val:\", rmse)"
   ]
  },
  {
   "cell_type": "markdown",
   "id": "28c3148b",
   "metadata": {},
   "source": [
    "Скалирование ничего не изменило... Добавим категориальные признаки"
   ]
  },
  {
   "cell_type": "markdown",
   "id": "b969a2b1",
   "metadata": {},
   "source": [
    "### Линейная регрессия с категориальными признаками"
   ]
  },
  {
   "cell_type": "code",
   "execution_count": 52,
   "id": "ce644d25",
   "metadata": {},
   "outputs": [
    {
     "name": "stdout",
     "output_type": "stream",
     "text": [
      "Test RMSE = 299902269852520087552.0000\n",
      "Train RMSE = 2653830.2554\n",
      "\n",
      "RMSE cross_val: 1.8642591168004784e+20\n"
     ]
    }
   ],
   "source": [
    "Linear_pipeline = Pipeline(steps=[\n",
    "    ('scaling', StandardScaler()),\n",
    "    ('regression', LinearRegression())\n",
    "])\n",
    "\n",
    "model = Linear_pipeline.fit(X_train_cat, y_train_cat)\n",
    "y_pred = model.predict(X_test_cat)\n",
    "y_train_pred = model.predict(X_train_cat)\n",
    "\n",
    "print(\"Test RMSE = %.4f\" % rmse_score(y_test_cat, y_pred))\n",
    "print(\"Train RMSE = %.4f\" % rmse_score(y_train_cat, y_train_pred))\n",
    "\n",
    "\n",
    "scores = cross_val_score(Linear_pipeline, X_cat, y_cat, scoring='neg_root_mean_squared_error', cv=5)\n",
    "rmse = np.mean(-1 * scores)\n",
    "\n",
    "print(\"\\nRMSE cross_val:\", rmse)"
   ]
  },
  {
   "cell_type": "markdown",
   "id": "14e8628f",
   "metadata": {},
   "source": [
    "Так как категориальные переменные раздули донельзя датасет, применим Lasso - регрессию, чтобы выбросить \"плохие\" признаки"
   ]
  },
  {
   "cell_type": "markdown",
   "id": "1a4d4889",
   "metadata": {},
   "source": [
    "### Регуляризация"
   ]
  },
  {
   "cell_type": "code",
   "execution_count": 53,
   "id": "9ee201c1",
   "metadata": {},
   "outputs": [
    {
     "name": "stdout",
     "output_type": "stream",
     "text": [
      "Test RMSE = 2441961.4014\n",
      "Train RMSE = 1466213.1635\n",
      "\n",
      "RMSE cross_val: 2341549.334979023\n"
     ]
    }
   ],
   "source": [
    "Lasso_pipeline = Pipeline(steps=[\n",
    "    ('scaling', StandardScaler()),\n",
    "    ('regression', Lasso())\n",
    "])\n",
    "\n",
    "model_lasso = Lasso_pipeline.fit(X_train_cat, y_train_cat)\n",
    "y_pred = model_lasso.predict(X_test_cat)\n",
    "y_train_pred = model_lasso.predict(X_train_cat)\n",
    "\n",
    "\n",
    "print(\"Test RMSE = %.4f\" % rmse_score(y_test_cat, y_pred))\n",
    "print(\"Train RMSE = %.4f\" % rmse_score(y_train_cat, y_train_pred))\n",
    "\n",
    "\n",
    "scores = cross_val_score(Lasso_pipeline, X_cat, y_cat, scoring='neg_root_mean_squared_error', cv=5)\n",
    "rmse = np.mean(-1 * scores)\n",
    "\n",
    "print(\"\\nRMSE cross_val:\", rmse)"
   ]
  },
  {
   "cell_type": "markdown",
   "id": "24ca0855",
   "metadata": {},
   "source": [
    "Лассо помогло снизить переобучение. Попробуем подобрать альфу через гридсерч"
   ]
  },
  {
   "cell_type": "code",
   "execution_count": 54,
   "id": "d51e3f03",
   "metadata": {},
   "outputs": [
    {
     "name": "stdout",
     "output_type": "stream",
     "text": [
      "Test RMSE = 2441961.4014\n",
      "Train RMSE = 1466213.1635\n",
      "\n",
      "Best alpha: 1.0\n",
      "\n",
      "RMSE cross_cal 2324897.95705208\n"
     ]
    }
   ],
   "source": [
    "alphas = np.linspace(0, 1, 20)\n",
    "searcher = GridSearchCV(Lasso_pipeline, [{\"regression__alpha\": alphas}],\n",
    "                        scoring=\"neg_root_mean_squared_error\", cv=5)\n",
    "searcher.fit(X_train_cat, y_train_cat)\n",
    "\n",
    "best_alpha = searcher.best_params_[\"regression__alpha\"]\n",
    "\n",
    "pipeline = Pipeline(steps=[\n",
    "    ('scaling', StandardScaler()),\n",
    "    ('regression', Lasso(best_alpha))\n",
    "])\n",
    "\n",
    "model_lasso = pipeline.fit(X_train_cat, y_train_cat)\n",
    "y_pred = model_lasso.predict(X_test_cat)\n",
    "y_train_pred = model_lasso.predict(X_train_cat)\n",
    "\n",
    "print(\"Test RMSE = %.4f\" % rmse_score(y_test_cat, y_pred))\n",
    "print(\"Train RMSE = %.4f\" % rmse_score(y_train_cat, y_train_pred))\n",
    "print('\\nBest alpha:', best_alpha)\n",
    "print('\\nRMSE cross_cal', -1 * searcher.best_score_)"
   ]
  },
  {
   "cell_type": "code",
   "execution_count": 55,
   "id": "7cebbd58",
   "metadata": {},
   "outputs": [
    {
     "name": "stdout",
     "output_type": "stream",
     "text": [
      "Число ненужных параметров: 61 из 503\n"
     ]
    }
   ],
   "source": [
    "print('Число ненужных параметров:', \n",
    "      sum(model_lasso['regression'].coef_ == 0), 'из', \n",
    "      len(model_lasso['regression'].coef_))"
   ]
  },
  {
   "cell_type": "code",
   "execution_count": 133,
   "id": "90cfd8a4",
   "metadata": {},
   "outputs": [
    {
     "name": "stdout",
     "output_type": "stream",
     "text": [
      "Наиболее важный параметр: Мощность\n"
     ]
    }
   ],
   "source": [
    "best_par = X_train_cat.columns[model_lasso['regression'].coef_ == model_lasso['regression'].coef_.max()][0]\n",
    "print(f'Наиболее важный параметр: {best_par}')"
   ]
  },
  {
   "cell_type": "markdown",
   "id": "d641d381",
   "metadata": {},
   "source": [
    "Закончим с регрессиями и посмотрим на другие модели"
   ]
  },
  {
   "cell_type": "markdown",
   "id": "ab846698",
   "metadata": {},
   "source": [
    "## Метод ближайших соседей"
   ]
  },
  {
   "cell_type": "markdown",
   "id": "2e627e5c",
   "metadata": {},
   "source": [
    "### Классический kNN"
   ]
  },
  {
   "cell_type": "code",
   "execution_count": 56,
   "id": "b3c3bbbe",
   "metadata": {},
   "outputs": [
    {
     "name": "stdout",
     "output_type": "stream",
     "text": [
      "Test RMSE = 3000269.6268\n",
      "Train RMSE = 221365.3099\n",
      "\n",
      "RMSE cross_val: 2868906.9510235693\n"
     ]
    }
   ],
   "source": [
    "model = KNeighborsClassifier(n_neighbors=10, p=2, weights='distance')\n",
    "\n",
    "model.fit(X_train_num, y_train_num)\n",
    "y_pr = model.predict(X_test_num)\n",
    "y_train_pred = model.predict(X_train_num)\n",
    "\n",
    "print(\"Test RMSE = %.4f\" % rmse_score(y_test_num, y_pr))\n",
    "print(\"Train RMSE = %.4f\" % rmse_score(y_train_num, y_train_pred))\n",
    "\n",
    "cross_val = cross_val_score(model, X_num, y_num, scoring='neg_root_mean_squared_error')\n",
    "rmse = np.mean(-1 * cross_val)\n",
    "print(\"\\nRMSE cross_val:\", rmse)"
   ]
  },
  {
   "cell_type": "markdown",
   "id": "2e35ddf1",
   "metadata": {},
   "source": [
    "Проделаем все, что делали выше для линейной регрессии"
   ]
  },
  {
   "cell_type": "markdown",
   "id": "ec1a2483",
   "metadata": {},
   "source": [
    "### kNN со скалированными данными"
   ]
  },
  {
   "cell_type": "code",
   "execution_count": 57,
   "id": "2bd87d2f",
   "metadata": {},
   "outputs": [
    {
     "name": "stdout",
     "output_type": "stream",
     "text": [
      "Test RMSE = 1793132.9592\n",
      "Train RMSE = 221365.3099\n",
      "\n",
      "RMSE cross_val: 1891642.1446624529\n"
     ]
    }
   ],
   "source": [
    "model.fit(X_train_scale, y_train_num)\n",
    "y_pr_ss = model.predict(X_test_scale)\n",
    "y_train_pr_ss = model.predict(X_train_scale)\n",
    "\n",
    "print(\"Test RMSE = %.4f\" % rmse_score(y_test_num, y_pr_ss))\n",
    "print(\"Train RMSE = %.4f\" % rmse_score(y_train_num, y_train_pr_ss))\n",
    "\n",
    "X = df_1.drop('Цена', axis=1)\n",
    "y = df_1['Цена']\n",
    "\n",
    "knn_pipeline = Pipeline(steps=[\n",
    "    ('SS', StandardScaler()),\n",
    "    ('knn', KNeighborsClassifier(n_neighbors=10, p=2, weights='distance'))\n",
    "])\n",
    "\n",
    "scores = cross_val_score(knn_pipeline, X_num, y_num, scoring='neg_root_mean_squared_error', cv=5)\n",
    "rmse = np.mean(-1 * scores)\n",
    "\n",
    "print(\"\\nRMSE cross_val:\", rmse)"
   ]
  },
  {
   "cell_type": "markdown",
   "id": "cd13f0c5",
   "metadata": {},
   "source": [
    "Очевидно, стандартизация очень сильно помогла ближайшим соседям. Попробую добавить категориальные переменные"
   ]
  },
  {
   "cell_type": "markdown",
   "id": "6e1cca09",
   "metadata": {},
   "source": [
    "### kNN с категориальными данными"
   ]
  },
  {
   "cell_type": "code",
   "execution_count": 58,
   "id": "ddea2d52",
   "metadata": {},
   "outputs": [
    {
     "name": "stdout",
     "output_type": "stream",
     "text": [
      "Test RMSE = 3428668.4866\n",
      "Train RMSE = 2002061.4075\n",
      "\n",
      "RMSE cross_val: 3024650.136194841\n"
     ]
    }
   ],
   "source": [
    "KNN_pipeline = Pipeline(steps=[\n",
    "    ('scaling', StandardScaler()),\n",
    "    ('KNN', KNeighborsClassifier(2))\n",
    "])\n",
    "\n",
    "model = KNN_pipeline.fit(X_train_cat, y_train_cat)\n",
    "y_pred = model.predict(X_test_cat)\n",
    "y_train_pred = model.predict(X_train_cat)\n",
    "\n",
    "print(\"Test RMSE = %.4f\" % rmse_score(y_test_cat, y_pred))\n",
    "print(\"Train RMSE = %.4f\" % rmse_score(y_train_cat, y_train_pred))\n",
    "\n",
    "scores = cross_val_score(KNN_pipeline, X_cat, y_cat, scoring='neg_root_mean_squared_error', cv=5)\n",
    "rmse = np.mean(-1 * scores)\n",
    "\n",
    "print(\"\\nRMSE cross_val:\", rmse)"
   ]
  },
  {
   "cell_type": "markdown",
   "id": "973124f0",
   "metadata": {},
   "source": [
    "Уберем лишние признаки согласно модели Lasso"
   ]
  },
  {
   "cell_type": "code",
   "execution_count": 59,
   "id": "5e9cd159",
   "metadata": {},
   "outputs": [
    {
     "name": "stdout",
     "output_type": "stream",
     "text": [
      "Test RMSE = 3428668.4866\n",
      "Train RMSE = 2058974.0689\n",
      "\n",
      "RMSE cross_val: 2384687.502201992\n"
     ]
    }
   ],
   "source": [
    "df_lasso = pd.concat([X_cat[X_cat.columns[model_lasso['regression'].coef_ != 0]], y], axis = 1)\n",
    "\n",
    "df_train, df_test = train_test_split(df_lasso, test_size=0.2, random_state=101)\n",
    "\n",
    "y_train = df_train['Цена']\n",
    "y_test = df_test['Цена']\n",
    "\n",
    "X_train = df_train.drop('Цена', axis=1)\n",
    "X_test = df_test.drop('Цена', axis=1)\n",
    "\n",
    "KNN_pipeline = Pipeline(steps=[\n",
    "    ('scaling', StandardScaler()),\n",
    "    ('KNN', KNeighborsClassifier(2))\n",
    "])\n",
    "\n",
    "model = KNN_pipeline.fit(X_train, y_train)\n",
    "y_pred = model.predict(X_test)\n",
    "y_train_pred = model.predict(X_train)\n",
    "\n",
    "print(\"Test RMSE = %.4f\" % rmse_score(y_test, y_pred))\n",
    "print(\"Train RMSE = %.4f\" % rmse_score(y_train, y_train_pred))\n",
    "\n",
    "scores = cross_val_score(KNN_pipeline, df_lasso, y, scoring='neg_root_mean_squared_error', cv=5)\n",
    "rmse = np.mean(-1 * scores)\n",
    "\n",
    "print(\"\\nRMSE cross_val:\", rmse)"
   ]
  },
  {
   "cell_type": "markdown",
   "id": "cca75530",
   "metadata": {},
   "source": [
    "## Случайный лес"
   ]
  },
  {
   "cell_type": "markdown",
   "id": "7ff1d179",
   "metadata": {},
   "source": [
    "Так как не имеет смысла рассматривать все наборы признаков, оставим два наиболее логичных:\n",
    "- Числовые отмасштабированные признаки;\n",
    "- Числовые отмасштабированные признаки + отобранные закодированные категориальные признаки\n",
    "\n",
    "\n",
    "Как известно, решающее дерево и случайный лес могут принимать на вход незакодированные категориальные признаки, однако в таком случае будет несколько больше сплитов. Чтобы ускорить процесс обучения, будем подавать закодированные признаки"
   ]
  },
  {
   "cell_type": "markdown",
   "id": "9b7df17b",
   "metadata": {},
   "source": [
    "### Модель с отскалированными числовыми признаками"
   ]
  },
  {
   "cell_type": "code",
   "execution_count": 26,
   "id": "045c663f",
   "metadata": {},
   "outputs": [
    {
     "name": "stdout",
     "output_type": "stream",
     "text": [
      "RMSE 1513019.9060417782\n"
     ]
    }
   ],
   "source": [
    "rfr_pipeline = Pipeline(steps=[\n",
    "    ('SS', StandardScaler()),\n",
    "    ('RFR', RandomForestRegressor(random_state=42))\n",
    "])\n",
    "\n",
    "params = {'RFR__n_estimators': np.arange(1, 20, 3),\n",
    "          'RFR__criterion': ['squared_error', 'absolute_error', 'friedman_mse', 'poisson'],\n",
    "          'RFR__max_depth': np.arange(1, 36, 1)}\n",
    "\n",
    "grid = GridSearchCV(rfr_pipeline, param_grid=params, scoring='neg_root_mean_squared_error', cv = 5)\n",
    "grid.fit(X_train_num, y_train_num)\n",
    "print(f'RMSE {-1 * grid.best_score_}')"
   ]
  },
  {
   "cell_type": "code",
   "execution_count": 39,
   "id": "79d76825",
   "metadata": {},
   "outputs": [
    {
     "name": "stdout",
     "output_type": "stream",
     "text": [
      "Test RMSE = 1686771.7154\n",
      "Train RMSE = 708091.3885\n"
     ]
    }
   ],
   "source": [
    "model = grid.best_estimator_\n",
    "model.fit(X_train_scale, y_train_num)\n",
    "\n",
    "y_pr_test = model.predict(X_test_scale)\n",
    "y_pr_train = model.predict(X_train_scale)\n",
    "\n",
    "print(\"Test RMSE = %.4f\" % rmse_score(y_test_num, y_pr_test))\n",
    "print(\"Train RMSE = %.4f\" % rmse_score(y_train_num, y_pr_train))"
   ]
  },
  {
   "cell_type": "markdown",
   "id": "f85df85f",
   "metadata": {},
   "source": [
    "### Модель с категориальными признаками"
   ]
  },
  {
   "cell_type": "code",
   "execution_count": 115,
   "id": "2954b0b8",
   "metadata": {},
   "outputs": [
    {
     "name": "stdout",
     "output_type": "stream",
     "text": [
      "Test RMSE = 1440099.9345\n",
      "Train RMSE = 637070.9761\n",
      "\n",
      "RMSE cross_val: 179393.34077576734\n"
     ]
    }
   ],
   "source": [
    "RFR_pipeline = Pipeline(steps=[\n",
    "    ('scaling', StandardScaler()),\n",
    "    ('RFR', model)\n",
    "])\n",
    "\n",
    "RFR_pipeline.fit(X_train, y_train_cat)\n",
    "\n",
    "y_pr_test = RFR_pipeline.predict(X_test)\n",
    "y_pr_train = RFR_pipeline.predict(X_train)\n",
    "\n",
    "print(\"Test RMSE = %.4f\" % rmse_score(y_test, y_pr_test))\n",
    "print(\"Train RMSE = %.4f\" % rmse_score(y_train, y_pr_train))\n",
    "\n",
    "scores = cross_val_score(RFR_pipeline, df_lasso, y, scoring='neg_root_mean_squared_error', cv=5)\n",
    "rmse = np.mean(-1 * scores)\n",
    "\n",
    "print(\"\\nRMSE cross_val:\", rmse)"
   ]
  },
  {
   "cell_type": "markdown",
   "id": "a35048ec",
   "metadata": {},
   "source": [
    "Категориальные признаки только ухудшили качество модели и степень переобучения, поэтому для деревьев оказался более полезным числовой набор признаков, более того эта модель лучшая из рассмотренных ранее"
   ]
  },
  {
   "cell_type": "markdown",
   "id": "2f06bc5b",
   "metadata": {},
   "source": [
    "## Градиентный бустинг"
   ]
  },
  {
   "cell_type": "markdown",
   "id": "9bef648e",
   "metadata": {},
   "source": [
    "### Модель с числовыми признаками "
   ]
  },
  {
   "cell_type": "code",
   "execution_count": 100,
   "id": "b3446f47",
   "metadata": {},
   "outputs": [
    {
     "name": "stdout",
     "output_type": "stream",
     "text": [
      "Test RMSE = 1655363.9973\n",
      "Train RMSE = 934453.8240\n",
      "Training on fold [0/5]\n",
      "\n",
      "bestTest = 1425080.727\n",
      "bestIteration = 4561\n",
      "\n",
      "Training on fold [1/5]\n",
      "\n",
      "bestTest = 1602002.948\n",
      "bestIteration = 2811\n",
      "\n",
      "Training on fold [2/5]\n",
      "\n",
      "bestTest = 1511538.864\n",
      "bestIteration = 9962\n",
      "\n",
      "Training on fold [3/5]\n",
      "\n",
      "bestTest = 1547572.772\n",
      "bestIteration = 7960\n",
      "\n",
      "Training on fold [4/5]\n",
      "\n",
      "bestTest = 1425730.057\n",
      "bestIteration = 4895\n",
      "\n",
      "CV RMSE = 1602154.2970\n"
     ]
    }
   ],
   "source": [
    "model = CatBoostRegressor(iterations=10000, \n",
    "                          depth=2, \n",
    "                          learning_rate=0.01, \n",
    "                          loss_function='RMSE',\n",
    "                          verbose=False)\n",
    "\n",
    "model.fit(X_train_num, y_train_num)\n",
    "\n",
    "y_pr_test = model.predict(X_test_num)\n",
    "y_pr_train = model.predict(X_train_num)\n",
    "\n",
    "print(\"Test RMSE = %.4f\" % rmse_score(y_test_num, y_pr_test))\n",
    "print(\"Train RMSE = %.4f\" % rmse_score(y_train_num, y_pr_train))\n",
    "\n",
    "cv_num = cv(pool=Pool(X_num, label=y_num),\n",
    "                      params=model.get_params(), \n",
    "                      fold_count=5,\n",
    "                      verbose=False)\n",
    "\n",
    "rmse = cv_num['test-RMSE-mean']\n",
    "\n",
    "print(\"CV RMSE = %.4f\" % np.mean(rmse))"
   ]
  },
  {
   "cell_type": "markdown",
   "id": "c2e75cfc",
   "metadata": {},
   "source": [
    "### Модель с категориальными признаками"
   ]
  },
  {
   "cell_type": "code",
   "execution_count": 116,
   "id": "1109c630",
   "metadata": {},
   "outputs": [
    {
     "name": "stdout",
     "output_type": "stream",
     "text": [
      "Test RMSE = 1440082.6574\n",
      "Train RMSE = 637070.9761\n",
      "Training on fold [0/5]\n",
      "\n",
      "bestTest = 182670.3485\n",
      "bestIteration = 9997\n",
      "\n",
      "Training on fold [1/5]\n",
      "\n",
      "bestTest = 111542.6492\n",
      "bestIteration = 7472\n",
      "\n",
      "Training on fold [2/5]\n",
      "\n",
      "bestTest = 130930.112\n",
      "bestIteration = 1004\n",
      "\n",
      "Training on fold [3/5]\n",
      "\n",
      "bestTest = 113707.3042\n",
      "bestIteration = 9970\n",
      "\n",
      "Training on fold [4/5]\n",
      "\n",
      "bestTest = 144773.3641\n",
      "bestIteration = 5915\n",
      "\n",
      "CV RMSE = 211657.7678\n"
     ]
    }
   ],
   "source": [
    "model = CatBoostRegressor(iterations=10000, \n",
    "                          depth=2, \n",
    "                          learning_rate=0.01, \n",
    "                          loss_function='RMSE',\n",
    "                          verbose=False)\n",
    "\n",
    "model.fit(X_train, y_train)\n",
    "\n",
    "y_pr_test = model.predict(X_test)\n",
    "y_pr_train = model.predict(X_train)\n",
    "\n",
    "print(\"Test RMSE = %.4f\" % rmse_score(y_test, y_pr_test))\n",
    "print(\"Train RMSE = %.4f\" % rmse_score(y_train, y_pr_train))\n",
    "\n",
    "cv_cat = cv(pool=Pool(df_lasso, label=y),\n",
    "                      params=model.get_params(), \n",
    "                      fold_count=5,\n",
    "                      verbose=False)\n",
    "\n",
    "rmse = cv_cat['test-RMSE-mean']\n",
    "\n",
    "print(\"CV RMSE = %.4f\" % np.mean(rmse))"
   ]
  },
  {
   "cell_type": "markdown",
   "id": "fd76d801",
   "metadata": {},
   "source": [
    "Модель на тестовой и тренировочной выборках показала примерно аналогичный результат, как и лес на более важных признаках, однако RMSE на кросс-валидации оказался меньше в разы."
   ]
  },
  {
   "cell_type": "markdown",
   "id": "0b03b78f",
   "metadata": {},
   "source": [
    "# Выводы"
   ]
  },
  {
   "attachments": {},
   "cell_type": "markdown",
   "id": "5fda1934",
   "metadata": {},
   "source": [
    "Большинство выводов было сделано в ходе исследования.\n",
    "\n",
    "Лучшая модель на данный момент исследования оказался лес со скалированными числовыми признаками. Его метрики:\n",
    "- Test RMSE = 1686771.7154\t\t\n",
    "- Train RMSE = 708091.3885\t\t\n",
    "\t\t\n",
    "- CV RMSE 1513019.9060\n",
    "\n",
    "Очевидно, что это довольно большие значения для задачи, однако это объясняется свойствами данных. В датасете представлены, как раритетные автомобили с большими ценами (что не может быть просто объяснено моделями), так и автомобили премиум-сегмента, которые по свойствам могут не отличаться от более дешевых аналогов"
   ]
  },
  {
   "cell_type": "markdown",
   "id": "a47c3717",
   "metadata": {},
   "source": [
    "# Будущее"
   ]
  },
  {
   "cell_type": "markdown",
   "id": "05e53532",
   "metadata": {},
   "source": [
    "В дальнейшем хочется разбить датасет на некоторые категории автомобилей (премиум-сегмент, раритетное авто и т.д.), вероятнее всего, это будет сделано с помощью решающего дерева или ансамбля. \n",
    "\n",
    "Работа с такими категорями должна кратно улучшить метрики за счет создания сразу нескольких моделей под каждую категорию. \n",
    "\n",
    "Кроме этого в планах разработать полносвязную нейронную сеть для набора данных"
   ]
  },
  {
   "cell_type": "code",
   "execution_count": null,
   "id": "5690eaf6",
   "metadata": {},
   "outputs": [],
   "source": []
  }
 ],
 "metadata": {
  "colab": {
   "provenance": []
  },
  "kernelspec": {
   "display_name": "Python 3 (ipykernel)",
   "language": "python",
   "name": "python3"
  },
  "language_info": {
   "codemirror_mode": {
    "name": "ipython",
    "version": 3
   },
   "file_extension": ".py",
   "mimetype": "text/x-python",
   "name": "python",
   "nbconvert_exporter": "python",
   "pygments_lexer": "ipython3",
   "version": "3.9.12"
  }
 },
 "nbformat": 4,
 "nbformat_minor": 5
}
